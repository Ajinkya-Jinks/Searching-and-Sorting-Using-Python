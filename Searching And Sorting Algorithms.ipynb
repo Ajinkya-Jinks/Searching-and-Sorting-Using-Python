{
 "cells": [
  {
   "cell_type": "markdown",
   "metadata": {},
   "source": [
    "# 1) Linear Search"
   ]
  },
  {
   "cell_type": "code",
   "execution_count": 4,
   "metadata": {},
   "outputs": [
    {
     "name": "stdout",
     "output_type": "stream",
     "text": [
      "Enter the element to be searched ::10\n",
      "The key is NOT found\n"
     ]
    }
   ],
   "source": [
    "def linear_search(key):\n",
    "    for i in range(len(ls)):\n",
    "        if key == ls[i]:\n",
    "            print(\"The key is found at index location::\",i)\n",
    "            break\n",
    "    else:\n",
    "        print(\"The key is NOT found\")\n",
    "\n",
    "ls = [8,2,5,2,19,192,6,39,1,23,35,33]\n",
    "key = int(input(\"Enter the element to be searched ::\"))\n",
    "linear_search(key)\n"
   ]
  },
  {
   "cell_type": "code",
   "execution_count": 8,
   "metadata": {},
   "outputs": [
    {
     "name": "stdout",
     "output_type": "stream",
     "text": [
      "Enter an element to be searched::6\n",
      "Key is found at index: 8\n"
     ]
    }
   ],
   "source": [
    "#When list contains repeated elements\n",
    "def li_search2(key):\n",
    "    flag = False\n",
    "    ls2 = []\n",
    "    for i in range(len(ls1)):\n",
    "        if key == ls1[i]:\n",
    "            flag = True\n",
    "            ls2.append(i)\n",
    "        \n",
    "    if flag == True:\n",
    "            print(\"Key is found at index:\")\n",
    "            for i in ls\n",
    "        \n",
    "    \n",
    "    else:\n",
    "        print(\"Key not found in the list\")\n",
    "        \n",
    "ls1 = [1,4,6,6,3,4,8,6,6]\n",
    "key = int(input(\"Enter an element to be searched::\"))\n",
    "li_search2(key)\n"
   ]
  },
  {
   "cell_type": "markdown",
   "metadata": {},
   "source": [
    "# 2) Binary Search"
   ]
  },
  {
   "cell_type": "code",
   "execution_count": 4,
   "metadata": {},
   "outputs": [
    {
     "name": "stdout",
     "output_type": "stream",
     "text": [
      "[1, 2, 4, 5, 11, 12, 22, 23, 44, 77, 90]\n",
      "Enter the key to be searched :: 99\n",
      "The key NOT found\n"
     ]
    }
   ],
   "source": [
    "def binary_search(list1,key):\n",
    "    low = 0\n",
    "    high = len(list1)-1\n",
    "    found = False\n",
    "    \n",
    "    while low<=high and not found:                     #while loop run untill and unless condition become true\n",
    "        mid = (low + high) //2\n",
    "        if key == list1[mid]:\n",
    "            found = True\n",
    "        elif key>list1[mid]:\n",
    "            low = mid + 1\n",
    "        else:\n",
    "            high = mid - 1\n",
    "        \n",
    "    if found == True:\n",
    "        print(\"The key is found\")\n",
    "    else:\n",
    "        print(\"The key NOT found\")\n",
    "\n",
    "\n",
    "list1 = [4,2,77,5,44,22,1,90,23,12,11]\n",
    "list1.sort()\n",
    "print(list1)\n",
    "key = int(input(\"Enter the key to be searched :: \"))\n",
    "binary_search(list1,key)"
   ]
  },
  {
   "cell_type": "markdown",
   "metadata": {},
   "source": [
    "# Sorting Algorithms"
   ]
  },
  {
   "cell_type": "markdown",
   "metadata": {},
   "source": [
    "# 1) Bubble Sort"
   ]
  },
  {
   "cell_type": "raw",
   "metadata": {},
   "source": [
    "# Max comparisons to be done: no. of elements - 1 i.e. (len(list1) - 1)\n",
    "# Max iterations to be done: no. of elements -1 i.e. (len(list1) - 1)"
   ]
  },
  {
   "cell_type": "code",
   "execution_count": 7,
   "metadata": {},
   "outputs": [
    {
     "name": "stdout",
     "output_type": "stream",
     "text": [
      "Unsorted List ::  [10, 5, 2, 78, 45, 1, 8]\n",
      "Sorted List ::  [1, 2, 5, 8, 10, 45, 78]\n"
     ]
    }
   ],
   "source": [
    "# Simple program\n",
    "list1 = [10,5,2,78,45,1,8]\n",
    "print(\"Unsorted List :: \",list1)\n",
    "for i in range(len(list1) - 1):\n",
    "    for j in range(len(list1) - 1):\n",
    "        if list1[j] > list1[j+1]:\n",
    "            list1[j], list1[j+1] = list1[j+1], list1[j]\n",
    "\n",
    "print(\"Sorted List :: \",list1)\n"
   ]
  },
  {
   "cell_type": "code",
   "execution_count": 13,
   "metadata": {},
   "outputs": [
    {
     "name": "stdout",
     "output_type": "stream",
     "text": [
      "Unsorted List ::  [10, 5, 2, 78, 45, 1, 8]\n",
      "[5, 10, 2, 78, 45, 1, 8]\n",
      "[5, 2, 10, 78, 45, 1, 8]\n",
      "[5, 2, 10, 78, 45, 1, 8]\n",
      "[5, 2, 10, 45, 78, 1, 8]\n",
      "[5, 2, 10, 45, 1, 78, 8]\n",
      "[5, 2, 10, 45, 1, 8, 78]\n",
      "\n",
      "[2, 5, 10, 45, 1, 8, 78]\n",
      "[2, 5, 10, 45, 1, 8, 78]\n",
      "[2, 5, 10, 45, 1, 8, 78]\n",
      "[2, 5, 10, 1, 45, 8, 78]\n",
      "[2, 5, 10, 1, 8, 45, 78]\n",
      "[2, 5, 10, 1, 8, 45, 78]\n",
      "\n",
      "[2, 5, 10, 1, 8, 45, 78]\n",
      "[2, 5, 10, 1, 8, 45, 78]\n",
      "[2, 5, 1, 10, 8, 45, 78]\n",
      "[2, 5, 1, 8, 10, 45, 78]\n",
      "[2, 5, 1, 8, 10, 45, 78]\n",
      "[2, 5, 1, 8, 10, 45, 78]\n",
      "\n",
      "[2, 5, 1, 8, 10, 45, 78]\n",
      "[2, 1, 5, 8, 10, 45, 78]\n",
      "[2, 1, 5, 8, 10, 45, 78]\n",
      "[2, 1, 5, 8, 10, 45, 78]\n",
      "[2, 1, 5, 8, 10, 45, 78]\n",
      "[2, 1, 5, 8, 10, 45, 78]\n",
      "\n",
      "[1, 2, 5, 8, 10, 45, 78]\n",
      "[1, 2, 5, 8, 10, 45, 78]\n",
      "[1, 2, 5, 8, 10, 45, 78]\n",
      "[1, 2, 5, 8, 10, 45, 78]\n",
      "[1, 2, 5, 8, 10, 45, 78]\n",
      "[1, 2, 5, 8, 10, 45, 78]\n",
      "\n",
      "[1, 2, 5, 8, 10, 45, 78]\n",
      "[1, 2, 5, 8, 10, 45, 78]\n",
      "[1, 2, 5, 8, 10, 45, 78]\n",
      "[1, 2, 5, 8, 10, 45, 78]\n",
      "[1, 2, 5, 8, 10, 45, 78]\n",
      "[1, 2, 5, 8, 10, 45, 78]\n",
      "\n",
      "Sorted List ::  [1, 2, 5, 8, 10, 45, 78]\n"
     ]
    }
   ],
   "source": [
    "# Modified Progrmam to print each iterations\n",
    "\n",
    "list1 = [10,5,2,78,45,1,8]\n",
    "print(\"Unsorted List :: \",list1)\n",
    "for i in range(len(list1) - 1):\n",
    "    for j in range(len(list1) - 1):\n",
    "        if list1[j] > list1[j+1]:\n",
    "            list1[j], list1[j+1] = list1[j+1], list1[j]\n",
    "            print(list1)\n",
    "        else:\n",
    "            print(list1)\n",
    "    print()\n",
    "\n",
    "print(\"Sorted List :: \",list1)\n"
   ]
  },
  {
   "cell_type": "code",
   "execution_count": 17,
   "metadata": {},
   "outputs": [
    {
     "name": "stdout",
     "output_type": "stream",
     "text": [
      "Unsorted List ::  [10, 5, 2, 78, 45, 1, 8]\n",
      "[5, 10, 2, 78, 45, 1, 8]\n",
      "\n",
      "[5, 10, 2, 78, 45, 1, 8]\n",
      "[5, 2, 10, 78, 45, 1, 8]\n",
      "[5, 2, 10, 78, 45, 1, 8]\n",
      "[5, 2, 10, 45, 78, 1, 8]\n",
      "[5, 2, 10, 45, 1, 78, 8]\n",
      "[5, 2, 10, 45, 1, 8, 78]\n",
      "\n",
      "[2, 5, 10, 45, 1, 8, 78]\n",
      "\n",
      "[2, 5, 10, 45, 1, 8, 78]\n",
      "[2, 5, 10, 45, 1, 8, 78]\n",
      "[2, 5, 10, 45, 1, 8, 78]\n",
      "[2, 5, 10, 1, 45, 8, 78]\n",
      "[2, 5, 10, 1, 8, 45, 78]\n",
      "[2, 5, 10, 1, 8, 45, 78]\n",
      "\n",
      "[2, 5, 10, 1, 8, 45, 78]\n",
      "\n",
      "[2, 5, 10, 1, 8, 45, 78]\n",
      "[2, 5, 10, 1, 8, 45, 78]\n",
      "[2, 5, 1, 10, 8, 45, 78]\n",
      "[2, 5, 1, 8, 10, 45, 78]\n",
      "[2, 5, 1, 8, 10, 45, 78]\n",
      "[2, 5, 1, 8, 10, 45, 78]\n",
      "\n",
      "Sorted List ::  [2, 5, 1, 8, 10, 45, 78]\n"
     ]
    }
   ],
   "source": [
    "# Removing unnecessary comparisons \n",
    "list1 = [10,5,2,78,45,1,8]\n",
    "print(\"Unsorted List :: \",list1)\n",
    "for i in range(len(list1) - 1):\n",
    "    for j in range(len(list1) - 1 - j):\n",
    "        if list1[j] > list1[j+1]:\n",
    "            list1[j], list1[j+1] = list1[j+1], list1[j]\n",
    "            print(list1)\n",
    "        else:\n",
    "            print(list1)\n",
    "    print()\n",
    "    \n",
    "\n",
    "print(\"Sorted List :: \",list1)"
   ]
  },
  {
   "cell_type": "code",
   "execution_count": 20,
   "metadata": {},
   "outputs": [
    {
     "name": "stdout",
     "output_type": "stream",
     "text": [
      "Enter the no. of elements to be entered in the list :: 4\n",
      "Enter the values in the list :: \n",
      "8\n",
      "8\n",
      "5\n",
      "3\n",
      "Unsorted List ::  [8, 8, 5, 3]\n",
      "\n",
      "\n",
      "\n",
      "Sorted List ::  [8, 8, 5, 3]\n"
     ]
    }
   ],
   "source": [
    "# Now Modifying above program to take input from user\n",
    "\n",
    "#Not working for now. Need to figure out why.\n",
    "\n",
    "\n",
    "list1 = []\n",
    "num = int(input(\"Enter the no. of elements to be entered in the list :: \"))\n",
    "print(\"Enter the values in the list :: \")\n",
    "for n in range(num):\n",
    "    list1.append(int(input()))\n",
    "\n",
    "print(\"Unsorted List :: \",list1)\n",
    "for i in range(len(list1) - 1):\n",
    "    for j in range(len(list1) - 1 - j):\n",
    "        if list1[j] > list1[j+1]:\n",
    "            list1[j], list1[j+1] = list1[j+1], list1[j]\n",
    "            print(list1)\n",
    "        else:\n",
    "            print(list1)\n",
    "    print()\n",
    "    \n",
    "\n",
    "print(\"Sorted List :: \",list1)\n"
   ]
  },
  {
   "cell_type": "markdown",
   "metadata": {},
   "source": [
    "# 2) Insertion Sort"
   ]
  },
  {
   "cell_type": "code",
   "execution_count": 24,
   "metadata": {},
   "outputs": [
    {
     "name": "stdout",
     "output_type": "stream",
     "text": [
      "Sorted List :: [1, 2, 2, 3, 3, 3, 6, 6, 8, 9]\n"
     ]
    }
   ],
   "source": [
    "def insert_sort(ls):\n",
    "    for index in range(1,len(ls)):\n",
    "        current_element = ls[index]\n",
    "        pos = index\n",
    "        while current_element<ls[pos - 1] and pos>0:\n",
    "            ls[pos] = ls[pos-1] #moving unsorted element in the list to right side of the list\n",
    "            pos = pos - 1\n",
    "            ls[pos] = current_element\n",
    "    print(\"Sorted List ::\",ls)\n",
    "ls = [9,3,6,2,3,2,1,6,3,8]\n",
    "insert_sort(ls)"
   ]
  },
  {
   "cell_type": "markdown",
   "metadata": {},
   "source": [
    "# 3) Selection Sort"
   ]
  },
  {
   "cell_type": "raw",
   "metadata": {},
   "source": [
    "Algorithm:\n",
    "    1) Set MIN to location 0.\n",
    "    2) Search the MIN. number inthe list\n",
    "    3) Swap with value at location MIN\n",
    "    4) Increment MIN to point next element.\n",
    "    5) Repeat until list is sorted"
   ]
  },
  {
   "cell_type": "code",
   "execution_count": 27,
   "metadata": {},
   "outputs": [
    {
     "name": "stdout",
     "output_type": "stream",
     "text": [
      "Unsorted List :: [3, 6, 1, 0, 39, 8, 10]\n",
      "The sorted list :: [0, 1, 3, 6, 8, 10, 39]\n"
     ]
    }
   ],
   "source": [
    "ls = [3,6,1,0,39,8,10]\n",
    "print(\"Unsorted List ::\",ls)\n",
    "for i in range(len(ls)):\n",
    "    min_val = min(ls[i:])\n",
    "    min_index = ls.index(min_val)\n",
    "    ls[i],ls[min_index] = ls[min_index],ls[i]\n",
    "print(\"The sorted list ::\",ls)"
   ]
  },
  {
   "cell_type": "markdown",
   "metadata": {},
   "source": [
    "# 4) Merge Sort"
   ]
  },
  {
   "cell_type": "raw",
   "metadata": {},
   "source": [
    "# Algorithm:\n",
    "    1) If it is one element ist is already sorted.\n",
    "    2) Divide the list recursively into two havlves untill it can no more be divided.\n",
    "    3) Merge the smaller lists into new list in sorted order."
   ]
  },
  {
   "cell_type": "code",
   "execution_count": 34,
   "metadata": {},
   "outputs": [
    {
     "name": "stdout",
     "output_type": "stream",
     "text": [
      "Enter the no. of elements to be entered :: 5\n",
      "88\n",
      "54\n",
      "3\n",
      "99\n",
      "0\n",
      "Sorted List ::  [0, 3, 54, 88, 99]\n"
     ]
    }
   ],
   "source": [
    "def merge_sort(ls):\n",
    "    if len(ls)>1:\n",
    "        mid = len(ls)//2\n",
    "        left_ls = ls[:mid]\n",
    "        right_ls = ls[mid:]\n",
    "        merge_sort(left_ls)\n",
    "        merge_sort(right_ls)\n",
    "        \"\"\"This is for dividing the list\"\"\"\n",
    "        \n",
    "        i = 0\n",
    "        j = 0\n",
    "        k = 0\n",
    "        \"\"\"Following while loops are for merging the list\"\"\"\n",
    "        while i<len(left_ls) and j<len(right_ls):\n",
    "            if left_ls[i]<right_ls[j]:\n",
    "                ls[k] = left_ls[i]\n",
    "                i=i+1\n",
    "                k=k+1\n",
    "            else:\n",
    "                ls[k] = right_ls[j]\n",
    "                j=j+1\n",
    "                k=k+1\n",
    "        \n",
    "        \"\"\"Following while loops are to handel the remaining values and merging them into the list\"\"\"\n",
    "        while i<len(left_ls):\n",
    "            ls[k] = left_ls[i]\n",
    "            i = i + 1\n",
    "            k = k +1\n",
    "            \n",
    "        while j < len(right_ls):\n",
    "            ls[k] = right_ls[j]\n",
    "            j=j+1\n",
    "            k=k+1\n",
    "            \n",
    "        \n",
    "         \n",
    "    \n",
    "   \n",
    "    \n",
    "\n",
    "ls2 =[]\n",
    "num = int(input(\"Enter the no. of elements to be entered :: \"))\n",
    "ls = [int(input()) for x in range(num)]\n",
    "merge_sort(ls)\n",
    "print(\"Sorted List :: \",ls)\n"
   ]
  },
  {
   "cell_type": "code",
   "execution_count": null,
   "metadata": {},
   "outputs": [],
   "source": []
  },
  {
   "cell_type": "code",
   "execution_count": null,
   "metadata": {},
   "outputs": [],
   "source": []
  }
 ],
 "metadata": {
  "kernelspec": {
   "display_name": "Python 3",
   "language": "python",
   "name": "python3"
  },
  "language_info": {
   "codemirror_mode": {
    "name": "ipython",
    "version": 3
   },
   "file_extension": ".py",
   "mimetype": "text/x-python",
   "name": "python",
   "nbconvert_exporter": "python",
   "pygments_lexer": "ipython3",
   "version": "3.7.4"
  }
 },
 "nbformat": 4,
 "nbformat_minor": 2
}
